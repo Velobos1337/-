{
 "cells": [
  {
   "cell_type": "code",
   "execution_count": null,
   "metadata": {},
   "outputs": [],
   "source": [
    "import pandas as pd\n",
    "import numpy as np\n",
    "import seaborn as sns"
   ]
  },
  {
   "cell_type": "markdown",
   "metadata": {},
   "source": [
    "моя работа будет разбиваться на несколько частей: предсказывать просмотры новых блогеров я буду по данным с работы (это вообще второстепенно, скорее даже вообще не нужно). Данные с парсинга нужны для того, чтобы можно было определить эффективную цену для каждого блогера по отдельности (не буду даже группировать, делая предпосылку, что сможем для каждого блогера отдельную цену делать). Тогда я сгружаю данные по рилс каждого блогера, у каждого блогера убираю отклонения жесткие, когда видос стрельнул (кста мб этого и не надо). Далее считаю такую цену, чтобы было как раз выгодно блогеру в большей части рилс, но при этом мы все равно в плюсе. (там потом вообще можно посчитать )"
   ]
  },
  {
   "cell_type": "markdown",
   "metadata": {},
   "source": [
    "Я буду работать с данными\n",
    "Блогер: кол-во подписичков, его категория (с работы), его язык (с работы)\n",
    "Рилсы по каждому блогеру сгрузить данные по рилс за 4 недели: кол-во просмотров, кол-во лайков, кол-во комментариев, дата загрузки, мб основной тег рилсов"
   ]
  },
  {
   "cell_type": "code",
   "execution_count": null,
   "metadata": {},
   "outputs": [],
   "source": [
    "df = pd.read_csv(\"C:\\\\Users\\\\sssss\\\\OneDrive\\\\Рабочий стол\\\\Учеба\\фикс оплата - база данных.csv\")\n",
    "df = df[['Date', 'Blogger name', 'Links number', 'Views number','Blogger (language)', 'Blogger (main tag)']]\n",
    "#Создадим столбец, которые будет указывать номер недель (проще с номерами работать будет)\n",
    "df['Date'] = pd.to_datetime(df['Date'], dayfirst=True)\n",
    "start_date = df['Date'].min()\n",
    "df['week number'] = ((df['Date'] - start_date).dt.days // 7) + 1\n",
    "df.info()\n",
    "df\n"
   ]
  },
  {
   "cell_type": "code",
   "execution_count": null,
   "metadata": {},
   "outputs": [],
   "source": [
    "df_views = df.pivot_table(values = 'Views number', index = 'Blogger name',columns = 'week number')\n",
    "df_views['Кол-во недель сотрудничества'] = df_views.count(axis=1)\n",
    "df_views = df_views[(df_views['Кол-во недель сотрудничества']>0)]\n",
    "df_views.index\n",
    "\n",
    "\n",
    "\n"
   ]
  },
  {
   "cell_type": "code",
   "execution_count": null,
   "metadata": {},
   "outputs": [],
   "source": [
    "from sklearn.model_selection import train_test_split\n",
    "bloggers_for_parsing =  train_test_split(df_views_active.index, test_size = 0.2, random_state = 42)\n",
    "bloggers_for_parsing"
   ]
  },
  {
   "cell_type": "code",
   "execution_count": null,
   "metadata": {},
   "outputs": [],
   "source": [
    "#Приготовим базу данных, в которую будут парситься данные\n",
    "view_reels = {}\n",
    "view_reels['Blogger'] = []"
   ]
  },
  {
   "cell_type": "code",
   "execution_count": null,
   "metadata": {},
   "outputs": [],
   "source": [
    "#данные по рилс\n",
    "view_reels = {}\n",
    "like_reels = {}\n",
    "comment_reels = {}\n",
    "date_reels = {}\n",
    "main_tag_reels = {}\n",
    "link_reels = {}\n",
    "\n",
    "#кол-во подписчиков\n",
    "Blogger_info = {}\n",
    "\n",
    "import instaloader\n",
    "Libr = instaloader.Instaloader()\n",
    "username = 'mayskaya_a_a'\n",
    "\n",
    "#данные по рилс\n",
    "view_reels[username] = []\n",
    "like_reels[username] = []\n",
    "comment_reels[username] = []\n",
    "date_reels[username] = []\n",
    "link_reels[username] = []\n",
    "main_tag_reels[username] = []\n",
    "\n",
    "#кол-во подписчиков\n",
    "Blogger_info['Blogger'] = []\n",
    "Blogger_info['followers'] = []\n",
    "Blogger_info['count_reels'] = []\n",
    "# Загрузите профиль\n",
    "profile = instaloader.Profile.from_username(Libr.context, username)\n",
    "\n",
    "Blogger_info['Blogger'].append(username)\n",
    "Blogger_info['followers'].append(profile.get_followers()) #заполняю кол-вом подписчиков\n",
    "\n",
    "сount_reels = 0\n",
    "# Переберем все публикации в профиле\n",
    "for post in profile.get_posts():\n",
    "    date = datetime(post.date_utc, #нужно узнать формат)\n",
    "    date_limit = '#нужно узнать формат'\n",
    "    date_limit = datetime(date_limit, #нужно узнать формат)\n",
    "    while post.date_utc >= date_limit:\n",
    "        # Проверяю, является ли публикация рилсом\n",
    "        if post.is_video and post.video_view_count is not None: \n",
    "            сount_reels += 1 \n",
    "            view_reels[username].append(post.video_view_count)\n",
    "            like_reels[username].append(post.likes)\n",
    "            comment_reels[username].append(post.comments)\n",
    "            date_reels[username].append(post.date_utc)\n",
    "            link_reels[username].append(post.shortcode)\n",
    "\n",
    "            #Напишу функцию для определения первого основного хештега видео\n",
    "            def hashteg():\n",
    "                caption = post.caption\n",
    "                # Ищем первый хештег в подписи\n",
    "                main_hashtag = None #это нужно было сделать для того случая, когда нет хештегов\n",
    "                if caption:\n",
    "                    words = caption.split()\n",
    "                    for word in words:\n",
    "                        if word.startswith('#'):\n",
    "                            main_hashtag = word[1:]  # Исключаем символ '#' из хештега\n",
    "                            break\n",
    "                return(main_hashtag)\n",
    "            main_tag_reels[username].append(hashteg())\n",
    " #добавляю кол-во рилс, которое должно было подгрузиться для проверки\n",
    "Blogger_info['count_reels'].append(сount_reels)"
   ]
  },
  {
   "cell_type": "code",
   "execution_count": null,
   "metadata": {},
   "outputs": [],
   "source": [
    "#данные по рилс\n",
    "view_reels = {}\n",
    "like_reels = {}\n",
    "comment_reels = {}\n",
    "date_reels = {}\n",
    "main_tag_reels = {}\n",
    "link_reels = {}\n",
    "\n",
    "#кол-во подписчиков\n",
    "Blogger_info = {}\n",
    "\n",
    "import instaloader\n",
    "Libr = instaloader.Instaloader()\n",
    "Libr.context.login('big_bill1337', )\n",
    "username = 'big_bill1337'\n",
    "\n",
    "#данные по рилс\n",
    "view_reels[username] = []\n",
    "like_reels[username] = []\n",
    "comment_reels[username] = []\n",
    "date_reels[username] = []\n",
    "link_reels[username] = []\n",
    "main_tag_reels[username] = []\n",
    "\n",
    "#кол-во подписчиков\n",
    "Blogger_info['Blogger'] = []\n",
    "Blogger_info['followers'] = []\n",
    "Blogger_info['count_reels'] = []\n",
    "# Загрузите профиль\n",
    "profile = instaloader.Profile.from_username(Libr.context, username)\n",
    "\n",
    "Blogger_info['Blogger'].append(username)\n",
    "Blogger_info['followers'].append(profile.get_followers()) #заполняю кол-вом подписчиков\n",
    "\n",
    "сount_reels = 0\n",
    "# Переберем все публикации в профиле\n",
    "for post in profile.get_posts():\n",
    "        # Проверяю, является ли публикация рилсом\n",
    "        if post.is_video and post.video_view_count is not None: \n",
    "            сount_reels += 1 \n",
    "            view_reels[username].append(post.video_view_count)\n",
    "            like_reels[username].append(post.likes)\n",
    "            comment_reels[username].append(post.comments)\n",
    "           \n",
    "            link_reels[username].append(post.shortcode)\n",
    "\n",
    "            #Напишу функцию для определения первого основного хештега видео\n",
    "            def hashteg():\n",
    "                caption = post.caption\n",
    "                # Ищем первый хештег в подписи\n",
    "                main_hashtag = None #это нужно было сделать для того случая, когда нет хештегов\n",
    "                if caption:\n",
    "                    words = caption.split()\n",
    "                    for word in words:\n",
    "                        if word.startswith('#'):\n",
    "                            main_hashtag = word[1:]  # Исключаем символ '#' из хештега\n",
    "                            break\n",
    "                return(main_hashtag)\n",
    "            main_tag_reels[username].append(hashteg())\n",
    " #добавляю кол-во рилс, которое должно было подгрузиться для проверки\n",
    "Blogger_info['count_reels'].append(сount_reels)"
   ]
  },
  {
   "cell_type": "code",
   "execution_count": null,
   "metadata": {},
   "outputs": [],
   "source": []
  },
  {
   "cell_type": "code",
   "execution_count": null,
   "metadata": {},
   "outputs": [],
   "source": []
  }
 ],
 "metadata": {
  "kernelspec": {
   "display_name": "Python 3",
   "language": "python",
   "name": "python3"
  },
  "language_info": {
   "codemirror_mode": {
    "name": "ipython",
    "version": 3
   },
   "file_extension": ".py",
   "mimetype": "text/x-python",
   "name": "python",
   "nbconvert_exporter": "python",
   "pygments_lexer": "ipython3",
   "version": "3.11.2"
  }
 },
 "nbformat": 4,
 "nbformat_minor": 2
}
